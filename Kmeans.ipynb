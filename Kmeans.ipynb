{
 "cells": [
  {
   "cell_type": "code",
   "execution_count": 1,
   "id": "3098042c",
   "metadata": {},
   "outputs": [],
   "source": [
    "import random\n",
    "import cv2"
   ]
  },
  {
   "cell_type": "markdown",
   "id": "f9f6bc3f",
   "metadata": {},
   "source": [
    "定义kmeans函数，传入参数data, k，data表示要进行聚类处理的数据，k为聚类个数"
   ]
  },
  {
   "cell_type": "code",
   "execution_count": 2,
   "id": "9ca9480c",
   "metadata": {},
   "outputs": [],
   "source": [
    "def kmeans(data, k):\n",
    "    centers = random.sample(data, k)\n",
    "    while True:\n",
    "        clusters = [[] for _ in range(k)]\n",
    "        label = [-1] * len(data)\n",
    "        for index in range(len(data)):\n",
    "            point = data[index]\n",
    "            distances = [((point[0] - c[0]) ** 2 + (point[1] - c[1]) ** 2 + (point[2] - c[2]) ** 2) ** 0.5 for c in\n",
    "                         centers]\n",
    "            # 获取距离中心点最近的点的索引\n",
    "            cluster = distances.index(min(distances))\n",
    "            clusters[cluster].append(point)\n",
    "            label[index] = cluster\n",
    "        new_centers = [None for _ in range(k)]\n",
    "        for i, cluster in enumerate(clusters):\n",
    "            if len(cluster) == 0:\n",
    "                new_centers[i] = centers[i]\n",
    "            else:\n",
    "                new_centers[i] = (sum([p[0] for p in cluster]) / len(cluster),\n",
    "                                  sum([p[1] for p in cluster]) / len(cluster),\n",
    "                                  sum([p[2] for p in cluster]) / len(cluster))\n",
    "        if centers == new_centers:\n",
    "            break\n",
    "        centers = new_centers\n",
    "    return centers, clusters, label"
   ]
  },
  {
   "cell_type": "markdown",
   "id": "b253ea64",
   "metadata": {},
   "source": [
    "读取图像，将图像转换为一维数组"
   ]
  },
  {
   "cell_type": "code",
   "execution_count": 9,
   "id": "f7ffe61d",
   "metadata": {},
   "outputs": [],
   "source": [
    "# 读取图像\n",
    "img = cv2.imread('cat1.jpg')\n",
    "\n",
    "# 将图像转换为一维数组\n",
    "img_data = img.reshape(-1, 3)"
   ]
  },
  {
   "cell_type": "markdown",
   "id": "50c89673",
   "metadata": {},
   "source": [
    "执行kmeans函数，并获得返回值"
   ]
  },
  {
   "cell_type": "code",
   "execution_count": 10,
   "id": "cb0ba2a4",
   "metadata": {},
   "outputs": [],
   "source": [
    "cent, clu, lab = kmeans(img_data.tolist(), 4)"
   ]
  },
  {
   "cell_type": "markdown",
   "id": "1cd011bb",
   "metadata": {},
   "source": [
    "对聚类结果进行上色处理，背景变为黑色，前景变为白色"
   ]
  },
  {
   "cell_type": "code",
   "execution_count": 11,
   "id": "6cf7ce94",
   "metadata": {},
   "outputs": [],
   "source": [
    "tar = lab[0]\n",
    "for i in range(len(lab)):\n",
    "    if lab[i] == tar:\n",
    "        img_data[i] = [0, 0, 0]\n",
    "    else:\n",
    "        img_data[i] = [255, 255, 255]"
   ]
  },
  {
   "cell_type": "markdown",
   "id": "66409f3f",
   "metadata": {},
   "source": [
    "将图片从一维reshape成原始大小"
   ]
  },
  {
   "cell_type": "code",
   "execution_count": 12,
   "id": "c7312c39",
   "metadata": {},
   "outputs": [],
   "source": [
    "img_over = img_data.reshape(img.shape)"
   ]
  },
  {
   "cell_type": "markdown",
   "id": "b2e27890",
   "metadata": {},
   "source": [
    "展示结果，并保存"
   ]
  },
  {
   "cell_type": "code",
   "execution_count": 13,
   "id": "c485de80",
   "metadata": {},
   "outputs": [
    {
     "data": {
      "text/plain": [
       "True"
      ]
     },
     "execution_count": 13,
     "metadata": {},
     "output_type": "execute_result"
    }
   ],
   "source": [
    "cv2.imshow('Segmented Image', img_over)\n",
    "cv2.waitKey(0)\n",
    "cv2.destroyAllWindows()\n",
    "cv2.imwrite('cat2_kmeans.jpg', img_over)"
   ]
  }
 ],
 "metadata": {
  "kernelspec": {
   "display_name": "Python [conda env:pytorch] *",
   "language": "python",
   "name": "conda-env-pytorch-py"
  },
  "language_info": {
   "codemirror_mode": {
    "name": "ipython",
    "version": 3
   },
   "file_extension": ".py",
   "mimetype": "text/x-python",
   "name": "python",
   "nbconvert_exporter": "python",
   "pygments_lexer": "ipython3",
   "version": "3.6.13"
  }
 },
 "nbformat": 4,
 "nbformat_minor": 5
}

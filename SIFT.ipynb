{
 "cells": [
  {
   "cell_type": "code",
   "execution_count": 1,
   "id": "5fdbb0df",
   "metadata": {},
   "outputs": [],
   "source": [
    "import cv2\n",
    "import numpy as np"
   ]
  },
  {
   "cell_type": "markdown",
   "id": "896dfd7a",
   "metadata": {},
   "source": [
    "定义展示图片的函数"
   ]
  },
  {
   "cell_type": "code",
   "execution_count": 2,
   "id": "cf2bb829",
   "metadata": {},
   "outputs": [],
   "source": [
    "def show(name, img):\n",
    "    cv2.imshow(name, img)\n",
    "    cv2.waitKey(0)\n",
    "    cv2.destroyAllWindows()"
   ]
  },
  {
   "cell_type": "markdown",
   "id": "d471aa3e",
   "metadata": {},
   "source": [
    "设置最小的匹配点个数和使用线性搜索还是使用k-d树搜索"
   ]
  },
  {
   "cell_type": "code",
   "execution_count": 3,
   "id": "caf83c49",
   "metadata": {},
   "outputs": [],
   "source": [
    "MIN = 10\n",
    "FLANN_INDEX_KDTREE = 0"
   ]
  },
  {
   "cell_type": "markdown",
   "id": "cecb9686",
   "metadata": {},
   "source": [
    "加载图片，并对其进行剪裁"
   ]
  },
  {
   "cell_type": "code",
   "execution_count": 4,
   "id": "2090f4c2",
   "metadata": {},
   "outputs": [],
   "source": [
    "img1 = cv2.imread('SIFT_zuo.jpg')  # query\n",
    "img2 = cv2.imread('SIFT_you.jpg')  # train\n",
    "\n",
    "# 将图像缩小0.5倍\n",
    "imageA = cv2.resize(img1, (0, 0), fx=0.5, fy=0.5)\n",
    "imageB = cv2.resize(img2, (0, 0), fx=0.5, fy=0.5)"
   ]
  },
  {
   "cell_type": "markdown",
   "id": "cfb83309",
   "metadata": {},
   "source": [
    "创建特征检测器SIFT 并提取图像的sift特征点"
   ]
  },
  {
   "cell_type": "code",
   "execution_count": 5,
   "id": "94b36103",
   "metadata": {},
   "outputs": [],
   "source": [
    "# 创建sift特征检测器\n",
    "sift = cv2.SIFT_create()\n",
    "# 提取图片的sift特征点\n",
    "kp1, descrip1 = sift.detectAndCompute(imageA, None)\n",
    "kp2, descrip2 = sift.detectAndCompute(imageB, None)"
   ]
  },
  {
   "cell_type": "markdown",
   "id": "699b572c",
   "metadata": {},
   "source": [
    "对两幅图像中的特征点进行特征匹配"
   ]
  },
  {
   "cell_type": "code",
   "execution_count": 6,
   "id": "827539cd",
   "metadata": {},
   "outputs": [],
   "source": [
    "# 创建字典\n",
    "# FLANN_INDEX_KDTREE==0代表线性搜索 1代表k-d树搜索\n",
    "indexParams = dict(algorithm=FLANN_INDEX_KDTREE, trees=5)\n",
    "# 进行最近邻搜索时 最大的比较次数为50\n",
    "searchParams = dict(checks=50)\n",
    "flann = cv2.FlannBasedMatcher(indexParams, searchParams)\n",
    "# 在两幅图像中进行特征匹配\n",
    "match = flann.knnMatch(descrip1, descrip2, k=2)"
   ]
  },
  {
   "cell_type": "markdown",
   "id": "dc6a4367",
   "metadata": {},
   "source": [
    "过滤特征点并计算视角变换矩阵"
   ]
  },
  {
   "cell_type": "code",
   "execution_count": 7,
   "id": "45434063",
   "metadata": {},
   "outputs": [],
   "source": [
    "good = []\n",
    "# 过滤特征点\n",
    "for i, (m, n) in enumerate(match):\n",
    "    if m.distance < 0.75 * n.distance:\n",
    "        good.append(m)\n",
    "\n",
    "# 当筛选后的匹配对大于10时，计算视角变换矩阵\n",
    "if len(good) > MIN:\n",
    "    src_pts = np.float32([kp1[m.queryIdx].pt for m in good]).reshape(-1, 1, 2)\n",
    "    ano_pts = np.float32([kp2[m.trainIdx].pt for m in good]).reshape(-1, 1, 2)\n",
    "    # 计算出从图像一到图像二的变换矩阵M和掩码mask\n",
    "    M, mask = cv2.findHomography(src_pts, ano_pts, cv2.RANSAC, 5.0)\n",
    "    # 对imageB进行视角变化，并把它扩大为两张图片宽的和\n",
    "    warpImg = cv2.warpPerspective(imageB, np.linalg.inv(M), (imageA.shape[1] + imageB.shape[1], imageB.shape[0]))"
   ]
  },
  {
   "cell_type": "markdown",
   "id": "1979097a",
   "metadata": {},
   "source": [
    "计算重叠区域的左右边界列索引"
   ]
  },
  {
   "cell_type": "code",
   "execution_count": 8,
   "id": "5659fbd0",
   "metadata": {},
   "outputs": [],
   "source": [
    "show('res', warpImg)\n",
    "rows, cols = imageA.shape[:2]\n",
    "for col in range(0, cols):\n",
    "    # 开始重叠的最左端\n",
    "    if imageA[:, col].any() and warpImg[:, col].any():\n",
    "        left = col\n",
    "        break\n",
    "\n",
    "for col in range(cols - 1, 0, -1):\n",
    "    # 重叠的最右一列\n",
    "    if imageA[:, col].any() and warpImg[:, col].any():\n",
    "        right = col\n",
    "        break"
   ]
  },
  {
   "cell_type": "markdown",
   "id": "26e15999",
   "metadata": {},
   "source": [
    "将两张图片进行加权拼接"
   ]
  },
  {
   "cell_type": "code",
   "execution_count": 9,
   "id": "fea33d91",
   "metadata": {},
   "outputs": [],
   "source": [
    "# 加权处理\n",
    "res = np.zeros([rows, cols, 3], np.uint8)\n",
    "for row in range(0, rows):\n",
    "    for col in range(0, cols):\n",
    "        if not imageA[row, col].any():  # 如果没有原图，用旋转的填充\n",
    "            res[row, col] = warpImg[row, col]\n",
    "        elif not warpImg[row, col].any():\n",
    "            res[row, col] = imageA[row, col]\n",
    "        # 计算出两个图像在该列上的重叠长度，按照重叠长度比例对两个像素进行混合\n",
    "        else:\n",
    "            srcImgLen = float(abs(col - left))\n",
    "            testImgLen = float(abs(col - right))\n",
    "            alpha = srcImgLen / (srcImgLen + testImgLen)\n",
    "            res[row, col] = np.clip(imageA[row, col] * (1 - alpha) + warpImg[row, col] * alpha, 0, 255)"
   ]
  },
  {
   "cell_type": "markdown",
   "id": "df18e8f5",
   "metadata": {},
   "source": [
    "最后展示结果并保存图片"
   ]
  },
  {
   "cell_type": "code",
   "execution_count": 10,
   "id": "77c7aab8",
   "metadata": {},
   "outputs": [
    {
     "data": {
      "text/plain": [
       "True"
      ]
     },
     "execution_count": 10,
     "metadata": {},
     "output_type": "execute_result"
    }
   ],
   "source": [
    "warpImg[0:imageA.shape[0], 0:imageA.shape[1]] = res\n",
    "show('res', warpImg)\n",
    "cv2.imwrite('task2.jpg', warpImg)"
   ]
  }
 ],
 "metadata": {
  "kernelspec": {
   "display_name": "Python 3",
   "language": "python",
   "name": "python3"
  },
  "language_info": {
   "codemirror_mode": {
    "name": "ipython",
    "version": 3
   },
   "file_extension": ".py",
   "mimetype": "text/x-python",
   "name": "python",
   "nbconvert_exporter": "python",
   "pygments_lexer": "ipython3",
   "version": "3.6.13"
  }
 },
 "nbformat": 4,
 "nbformat_minor": 5
}

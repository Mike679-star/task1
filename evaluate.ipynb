{
 "cells": [
  {
   "cell_type": "code",
   "execution_count": 1,
   "id": "a99d9824",
   "metadata": {},
   "outputs": [],
   "source": [
    "import cv2\n",
    "import numpy as np"
   ]
  },
  {
   "cell_type": "markdown",
   "id": "3dab288c",
   "metadata": {},
   "source": [
    "定义了evaluate函数，返回pixel_accuracy, IoU, F1_score"
   ]
  },
  {
   "cell_type": "code",
   "execution_count": 2,
   "id": "279976b6",
   "metadata": {},
   "outputs": [],
   "source": [
    "def evaluate(y_pre, y_true):\n",
    "    TP = 0\n",
    "    TN = 0\n",
    "    FP = 0\n",
    "    FN = 0\n",
    "    overlap = 0\n",
    "    union = 0\n",
    "    for i, value in enumerate(y_true):\n",
    "        if y_pre[i] == value and y_pre[i] == 1:\n",
    "            TP += 1\n",
    "            overlap += 1\n",
    "            union += 1\n",
    "        elif y_pre[i] == value and y_pre[i] == 0:\n",
    "            TN += 1\n",
    "        elif y_pre[i] != value and y_pre[i] == 0:\n",
    "            FN += 1\n",
    "            union += 1\n",
    "        else:\n",
    "            FP += 1\n",
    "            union += 1\n",
    "    # 像素准确性\n",
    "    pixel_accuracy = (TP+TN)/(TP+TN+FP+FN)\n",
    "\n",
    "    # IoU\n",
    "    IoU = overlap / union\n",
    "\n",
    "    # F1_score\n",
    "    P = TP / (TP + FP)\n",
    "    R = TP / (TP + FN)\n",
    "    F1_score = 2 * P * R / (P+R)\n",
    "    return pixel_accuracy, IoU, F1_score"
   ]
  },
  {
   "cell_type": "markdown",
   "id": "4560743a",
   "metadata": {},
   "source": [
    "加载groundtruth和结果图"
   ]
  },
  {
   "cell_type": "code",
   "execution_count": 3,
   "id": "655fdd2d",
   "metadata": {},
   "outputs": [],
   "source": [
    "img_target = cv2.imread('cat1_target1_hac.jpg')\n",
    "img = cv2.imread('cat1_hac.jpg')"
   ]
  },
  {
   "cell_type": "markdown",
   "id": "84c7c159",
   "metadata": {},
   "source": [
    "将图像数据映射到label，即背景为0，前景为1"
   ]
  },
  {
   "cell_type": "code",
   "execution_count": 4,
   "id": "9da7d46a",
   "metadata": {},
   "outputs": [],
   "source": [
    "rows, cols = img.shape[:2]\n",
    "label_target = np.zeros((rows, cols))\n",
    "label_img = np.zeros((rows, cols))\n",
    "# label_target = img_target[:, :, 0]//255\n",
    "# label_img = img[:, :, 0]//255\n",
    "\n",
    "for i in range(rows):\n",
    "    for j in range(cols):\n",
    "\n",
    "        if img_target[i][j][0] < 10 and img_target[i][j][1] < 10 and img_target[i][j][2] < 10:\n",
    "            label_target[i, j] = 0\n",
    "        else:\n",
    "            label_target[i, j] = 1\n",
    "\n",
    "        if img[i][j][0] < 10 and img[i][j][1] < 10 and img[i][j][2] < 10:\n",
    "            label_img[i, j] = 0\n",
    "        else:\n",
    "            label_img[i, j] = 1"
   ]
  },
  {
   "cell_type": "markdown",
   "id": "72c04cb0",
   "metadata": {},
   "source": [
    "将label变成一维数据，并传入evaluate计算指标并输出"
   ]
  },
  {
   "cell_type": "code",
   "execution_count": 5,
   "id": "7b592e3c",
   "metadata": {},
   "outputs": [
    {
     "name": "stdout",
     "output_type": "stream",
     "text": [
      "Kmeans result: pixel_accuracy 0.8992424242424243, IoU 0.7240663900414938, F1_score 0.8399518652226234\n"
     ]
    }
   ],
   "source": [
    "label_img = label_img.reshape(-1)\n",
    "label_target = label_target.reshape(-1)\n",
    "\n",
    "pa, iou, f1 = evaluate(label_img.tolist(), label_target.tolist())\n",
    "print(\"Kmeans result: pixel_accuracy {}, IoU {}, F1_score {}\".format(pa, iou, f1))"
   ]
  }
 ],
 "metadata": {
  "kernelspec": {
   "display_name": "Python [conda env:pytorch] *",
   "language": "python",
   "name": "conda-env-pytorch-py"
  },
  "language_info": {
   "codemirror_mode": {
    "name": "ipython",
    "version": 3
   },
   "file_extension": ".py",
   "mimetype": "text/x-python",
   "name": "python",
   "nbconvert_exporter": "python",
   "pygments_lexer": "ipython3",
   "version": "3.6.13"
  }
 },
 "nbformat": 4,
 "nbformat_minor": 5
}

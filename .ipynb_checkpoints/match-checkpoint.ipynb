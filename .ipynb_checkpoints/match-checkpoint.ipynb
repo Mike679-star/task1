{
 "cells": [
  {
   "cell_type": "code",
   "execution_count": 1,
   "id": "bbe0c4da",
   "metadata": {},
   "outputs": [],
   "source": [
    "import cv2"
   ]
  },
  {
   "cell_type": "markdown",
   "id": "54baa467",
   "metadata": {},
   "source": [
    "读取图像，并将图像缩小0.5倍"
   ]
  },
  {
   "cell_type": "code",
   "execution_count": 3,
   "id": "9d74d812",
   "metadata": {},
   "outputs": [],
   "source": [
    "# 读取图像\n",
    "img1 = cv2.imread('SIFT_zuo.jpg', cv2.IMREAD_GRAYSCALE)\n",
    "img2 = cv2.imread('SIFT_you.jpg', cv2.IMREAD_GRAYSCALE)\n",
    "\n",
    "height, width = img1.shape[:2]\n",
    "\n",
    "# 将图像缩小0.5倍\n",
    "imageA = cv2.resize(img1, (0, 0), fx=0.5, fy=0.5)\n",
    "imageB = cv2.resize(img2, (0, 0), fx=0.5, fy=0.5)\n",
    "height, width = imageA.shape[:2]"
   ]
  },
  {
   "cell_type": "markdown",
   "id": "b8ad4a9e",
   "metadata": {},
   "source": [
    "创建特征检测器，并提取特征点"
   ]
  },
  {
   "cell_type": "code",
   "execution_count": 4,
   "id": "f4248652",
   "metadata": {},
   "outputs": [],
   "source": [
    "# 创建 SIFT 特征检测器\n",
    "sift = cv2.SIFT_create()\n",
    "\n",
    "# 在两幅图像中检测关键点并计算描述符\n",
    "kp1, des1 = sift.detectAndCompute(imageA, None)\n",
    "kp2, des2 = sift.detectAndCompute(imageB, None)"
   ]
  },
  {
   "cell_type": "markdown",
   "id": "ff80e216",
   "metadata": {},
   "source": [
    "对两幅图像中的特征点进行特征匹配，并选择最佳匹配的前10个特征点"
   ]
  },
  {
   "cell_type": "code",
   "execution_count": 5,
   "id": "52a9ecfc",
   "metadata": {},
   "outputs": [],
   "source": [
    "# 创建 FLANN 匹配器\n",
    "flann_params = dict(algorithm=0, trees=5)\n",
    "searchParams = dict(checks=50)\n",
    "matcher = cv2.FlannBasedMatcher(flann_params, searchParams)\n",
    "\n",
    "# 在两幅图像中进行特征匹配\n",
    "matches = matcher.match(des1, des2)\n",
    "\n",
    "# 选择最佳匹配的前 10 对特征点\n",
    "matches = sorted(matches, key=lambda x: x.distance)[:10]"
   ]
  },
  {
   "cell_type": "markdown",
   "id": "517ca03c",
   "metadata": {},
   "source": [
    "在两幅图像中绘制匹配结果"
   ]
  },
  {
   "cell_type": "code",
   "execution_count": 6,
   "id": "2f42d728",
   "metadata": {},
   "outputs": [],
   "source": [
    "img_matches = cv2.drawMatches(imageA, kp1, imageB, kp2, matches, None)"
   ]
  },
  {
   "cell_type": "markdown",
   "id": "29feb4ce",
   "metadata": {},
   "source": [
    "显示匹配结果，并保存图像"
   ]
  },
  {
   "cell_type": "code",
   "execution_count": 7,
   "id": "bc999405",
   "metadata": {},
   "outputs": [
    {
     "data": {
      "text/plain": [
       "True"
      ]
     },
     "execution_count": 7,
     "metadata": {},
     "output_type": "execute_result"
    }
   ],
   "source": [
    "# 显示匹配结果\n",
    "cv2.imshow('image', img_matches)\n",
    "cv2.waitKey(0)\n",
    "cv2.destroyAllWindows()\n",
    "cv2.imwrite('img_matches.jpg', img_matches)"
   ]
  }
 ],
 "metadata": {
  "kernelspec": {
   "display_name": "Python 3",
   "language": "python",
   "name": "python3"
  },
  "language_info": {
   "codemirror_mode": {
    "name": "ipython",
    "version": 3
   },
   "file_extension": ".py",
   "mimetype": "text/x-python",
   "name": "python",
   "nbconvert_exporter": "python",
   "pygments_lexer": "ipython3",
   "version": "3.6.13"
  }
 },
 "nbformat": 4,
 "nbformat_minor": 5
}
